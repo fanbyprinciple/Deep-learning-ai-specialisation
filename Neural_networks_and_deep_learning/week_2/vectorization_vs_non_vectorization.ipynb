{
  "nbformat": 4,
  "nbformat_minor": 0,
  "metadata": {
    "colab": {
      "name": "vectorization vs non vectorization",
      "provenance": []
    },
    "kernelspec": {
      "name": "python3",
      "display_name": "Python 3"
    },
    "language_info": {
      "name": "python"
    }
  },
  "cells": [
    {
      "cell_type": "code",
      "metadata": {
        "colab": {
          "base_uri": "https://localhost:8080/"
        },
        "id": "KVLE6B6qsPsh",
        "outputId": "35041a31-1453-40ee-ba34-6569ec92f07f"
      },
      "source": [
        "import numpy as np\n",
        "\n",
        "a = np.random.rand(1000000)\n",
        "b = np.random.rand(1000000)\n",
        "\n",
        "print(a.shape, b.shape)\n",
        "import time"
      ],
      "execution_count": 18,
      "outputs": [
        {
          "output_type": "stream",
          "text": [
            "(1000000,) (1000000,)\n"
          ],
          "name": "stdout"
        }
      ]
    },
    {
      "cell_type": "code",
      "metadata": {
        "colab": {
          "base_uri": "https://localhost:8080/"
        },
        "id": "TtGk9DbusaZF",
        "outputId": "a997a61c-bdd5-4f0d-a906-d63cd5376693"
      },
      "source": [
        "tic = time.time()\n",
        "c = np.dot(a,b)\n",
        "print(c)\n",
        "tok = time.time()\n",
        "\n",
        "print(f\"total time: {1000 * (tic-tok)}\")"
      ],
      "execution_count": 19,
      "outputs": [
        {
          "output_type": "stream",
          "text": [
            "250103.52500954518\n",
            "total time: -2.568483352661133\n"
          ],
          "name": "stdout"
        }
      ]
    },
    {
      "cell_type": "code",
      "metadata": {
        "colab": {
          "base_uri": "https://localhost:8080/"
        },
        "id": "3_yBRwtRsy5D",
        "outputId": "7eeb5fbc-9cae-4af3-e954-fab87a6ecfc9"
      },
      "source": [
        "c = 0\n",
        "tic = time.time()\n",
        "for i in range(1000000):\n",
        "  c += a[i] * b[i]\n",
        "\n",
        "print(c)\n",
        "tok = time.time()\n",
        "\n",
        "print(f\"total time: {1000 * (tic-tok)}\")"
      ],
      "execution_count": 20,
      "outputs": [
        {
          "output_type": "stream",
          "text": [
            "250103.52500955164\n",
            "total time: -677.7734756469727\n"
          ],
          "name": "stdout"
        }
      ]
    }
  ]
}